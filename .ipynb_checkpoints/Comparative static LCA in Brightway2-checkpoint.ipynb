{
 "cells": [
  {
   "cell_type": "markdown",
   "metadata": {},
   "source": [
    "# *Comparative static LCA* in **Brightway2**\n",
    "\n",
    "Contributed by [Pascal Lesage](mailto:pascal.lesage@polymtl.ca), who is exploring Brightway2  \n",
    "\n",
    "This Notebook was *not* produced by Chris Mutel, and probably presents some techniques that could have been done more efficiently.  Any comments/suggestions are absolutely welcome and should be sent to Pascal."
   ]
  },
  {
   "cell_type": "markdown",
   "metadata": {},
   "source": [
    "### Objective:  \n",
    "This notebook explores how to conduct comparative static (or deterministic) LCA, i.e. LCA that ignores uncertainty.  \n",
    "Precisely, the objectives are to:  \n",
    "1. Calculate the life cycle inventory of Danish and European milk as modeled in the FORWAST database.  \n",
    "2. Compare the life cycle indicator results for the two products using ReCiPe (H,A) endpoints methods (totals for the three damage categories).\n",
    "3. Present the results using a table that normalizes results to the larger score."
   ]
  },
  {
   "cell_type": "markdown",
   "metadata": {},
   "source": [
    "### Step 1: Initial stuff.  \n",
    "To get started, some initiating stuff, which is described in Brightway2's *official* [Introduction notebook](https://docs.brightwaylca.org/notebooks.html#example-notebooks):\n",
    "- Importing Brightway2\n",
    "- Creating a project (see [the docs](https://docs.brightwaylca.org/intro.html#projects) to understand what a project is in Brightway2)\n",
    "- Importing a list of methods (Methods) and elementary flows (actually *activities* in Brightway2, in the *Biosphere3* database)\n",
    "- Importing the [FORWAST](http://forwast.brgm.fr/) database"
   ]
  },
  {
   "cell_type": "markdown",
   "metadata": {},
   "source": [
    "The first steps are probably common to all projects starting from scratch:"
   ]
  },
  {
   "cell_type": "code",
   "execution_count": 1,
   "metadata": {
    "collapsed": false
   },
   "outputs": [
    {
     "name": "stderr",
     "output_type": "stream",
     "text": [
      "Warning: bad escape \\s\n"
     ]
    },
    {
     "name": "stdout",
     "output_type": "stream",
     "text": [
      "Biosphere database already present!!! No setup is needed\n"
     ]
    }
   ],
   "source": [
    "import brightway2 as bw #I like importing \"as BW\" to better keep track of Brightway's methods and functions\n",
    "bw.projects.current = \"Comparative static LCA\" #Creating the project\n",
    "bw.bw2setup() #Importing elementary flows, LCIA methods and some other data"
   ]
  },
  {
   "cell_type": "markdown",
   "metadata": {},
   "source": [
    "The following is specific to importing the FORWAST database, as explained in both the \"Getting started\" and the specific \"Importing FORWAST\" Notebooks found [on Brightway2's site](https://docs.brightwaylca.org/notebooks.html#example-notebooks)"
   ]
  },
  {
   "cell_type": "code",
   "execution_count": 2,
   "metadata": {
    "collapsed": false
   },
   "outputs": [],
   "source": [
    "import zipfile\n",
    "import os\n",
    "from bw2data.utils import download_file\n",
    "\n",
    "if \"forwast\" not in bw.databases:\n",
    "    filepath = download_file(\"forwast.bw2package.zip\", url=\"http://lca-net.com/wp-content/uploads/\")\n",
    "    dirpath = os.path.dirname(filepath)\n",
    "    zipfile.ZipFile(filepath).extractall(dirpath)\n",
    "    bw.BW2Package.import_file(os.path.join(dirpath, \"forwast.bw2package\"))"
   ]
  },
  {
   "cell_type": "markdown",
   "metadata": {},
   "source": [
    "Let's pull in our databases so we can use them, and print their *types*, just to remember what these actually are."
   ]
  },
  {
   "cell_type": "code",
   "execution_count": 3,
   "metadata": {
    "collapsed": false
   },
   "outputs": [
    {
     "name": "stdout",
     "output_type": "stream",
     "text": [
      "The forwast DB type is  <class 'bw2data.backends.peewee.database.SQLiteBackend'> \n",
      "The biosphere DB type is  <class 'bw2data.backends.peewee.database.SQLiteBackend'> \n",
      "just so you know.\n"
     ]
    }
   ],
   "source": [
    "bioDB = bw.Database(\"biosphere3\")\n",
    "forwastDB = bw.Database(\"forwast\")\n",
    "print(\"The forwast DB type is \", type(forwastDB), \"\\nThe biosphere DB type is \", type(bioDB), \"\\njust so you know.\" )"
   ]
  },
  {
   "cell_type": "markdown",
   "metadata": {},
   "source": [
    "### Step 2: Finding my two products"
   ]
  },
  {
   "cell_type": "markdown",
   "metadata": {},
   "source": [
    "For my problem, I want to compare Danish and European milks.  \n",
    "I'll make my FORWAST database searchable, and then search for \"dairy\"."
   ]
  },
  {
   "cell_type": "code",
   "execution_count": 4,
   "metadata": {
    "collapsed": false
   },
   "outputs": [
    {
     "name": "stdout",
     "output_type": "stream",
     "text": [
      "This database is already searchable\n"
     ]
    },
    {
     "name": "stderr",
     "output_type": "stream",
     "text": [
      "Warning: _[traitname]_default handlers are deprecated: use default decorator instead\n",
      "Warning: _[traitname]_changed handlers are deprecated: use observe and unobserve instead\n",
      "Warning: _[traitname]_default handlers are deprecated: use default decorator instead\n",
      "Warning: _[traitname]_default handlers are deprecated: use default decorator instead\n",
      "Warning: _[traitname]_default handlers are deprecated: use default decorator instead\n",
      "Warning: _[traitname]_default handlers are deprecated: use default decorator instead\n",
      "Warning: _[traitname]_changed handlers are deprecated: use observe and unobserve instead\n",
      "Warning: _[traitname]_changed handlers are deprecated: use observe and unobserve instead\n",
      "Warning: _[traitname]_changed handlers are deprecated: use observe and unobserve instead\n",
      "Warning: _[traitname]_changed handlers are deprecated: use observe and unobserve instead\n",
      "Warning: _[traitname]_changed handlers are deprecated: use observe and unobserve instead\n",
      "Warning: _[traitname]_changed handlers are deprecated: use observe and unobserve instead\n",
      "Warning: _[traitname]_changed handlers are deprecated: use observe and unobserve instead\n",
      "Warning: _[traitname]_changed handlers are deprecated: use observe and unobserve instead\n",
      "Warning: _[traitname]_changed handlers are deprecated: use observe and unobserve instead\n",
      "Warning: _[traitname]_changed handlers are deprecated: use observe and unobserve instead\n",
      "Warning: _[traitname]_default handlers are deprecated: use default decorator instead\n",
      "Warning: _[traitname]_default handlers are deprecated: use default decorator instead\n",
      "Warning: _[traitname]_default handlers are deprecated: use default decorator instead\n"
     ]
    },
    {
     "data": {
      "text/plain": [
       "['_20 Dairy products, EU27' (kilogram, GLO, ['Input Output', 'EU27 2003']),\n",
       " '_20 Dairy products, DK' (kilogram, GLO, ['Input Output', 'Denmark 2003'])]"
      ]
     },
     "execution_count": 4,
     "metadata": {},
     "output_type": "execute_result"
    }
   ],
   "source": [
    "forwastDB.make_searchable()\n",
    "dairy = forwastDB.search(\"dairy\")\n",
    "dairy"
   ]
  },
  {
   "cell_type": "markdown",
   "metadata": {},
   "source": [
    "I have found my two products. Let me create a variable for each, and then store them together in a list:"
   ]
  },
  {
   "cell_type": "code",
   "execution_count": 5,
   "metadata": {
    "collapsed": false
   },
   "outputs": [
    {
     "name": "stdout",
     "output_type": "stream",
     "text": [
      "I will compare\n",
      "'_20 Dairy products, EU27' (kilogram, GLO, ['Input Output', 'EU27 2003']) and\n",
      "'_20 Dairy products, DK' (kilogram, GLO, ['Input Output', 'Denmark 2003'])\n"
     ]
    }
   ],
   "source": [
    "DKmilk = dairy[0]\n",
    "EUmilk = dairy[1]\n",
    "# You could also just do:\n",
    "# print(\"I will compare\\n{} and\\n{}\".format(DKmilk, EUmilk))\n",
    "print(\"I will compare\\n{0} and\\n{1}\".format(DKmilk, EUmilk))\n",
    "myMilks = [DKmilk, EUmilk]"
   ]
  },
  {
   "cell_type": "markdown",
   "metadata": {},
   "source": [
    "Of course, in this case, `myMilks` is exactly the same as `dairy`(my search result), but this is a fluke. For example, there could have been more dairy in the database."
   ]
  },
  {
   "cell_type": "markdown",
   "metadata": {},
   "source": [
    "### Step 3: Selecting my LCIA methods"
   ]
  },
  {
   "cell_type": "markdown",
   "metadata": {},
   "source": [
    "There are many methods that were imported during bw.bwsetup(). How many? Let's find out."
   ]
  },
  {
   "cell_type": "code",
   "execution_count": 6,
   "metadata": {
    "collapsed": false
   },
   "outputs": [
    {
     "data": {
      "text/plain": [
       "665"
      ]
     },
     "execution_count": 6,
     "metadata": {},
     "output_type": "execute_result"
    }
   ],
   "source": [
    "len(bw.methods)"
   ]
  },
  {
   "cell_type": "markdown",
   "metadata": {},
   "source": [
    "I just want methods that contain \"ReCiPe\" and (H, A) in the first element of the tuple, and \"total\" in the third.  \n",
    "Let's also exclude \"single scores\" (i.e. methods where \"total\" is the second element in the tuple) and the \"without longterm\" methods.  \n",
    "So let's create my list of methods:"
   ]
  },
  {
   "cell_type": "code",
   "execution_count": 7,
   "metadata": {
    "collapsed": false
   },
   "outputs": [
    {
     "data": {
      "text/plain": [
       "[('ReCiPe Endpoint (H,A)', 'human health', 'total'),\n",
       " ('ReCiPe Endpoint (H,A)', 'ecosystem quality', 'total'),\n",
       " ('ReCiPe Endpoint (H,A)', 'resources', 'total')]"
      ]
     },
     "execution_count": 7,
     "metadata": {},
     "output_type": "execute_result"
    }
   ],
   "source": [
    "# This isn't needed - just iterate over `methods` directly\n",
    "# allMethods = list(bw.methods)\n",
    "myMethods = [method for method in bw.methods\n",
    "             if \"ReCiPe\" in method[0] \n",
    "             and \"(H,A)\" in method[0] \n",
    "             and \"w/o\" not in method[0] \n",
    "             and \"total\" not in method[1]\n",
    "             and \"total\" in method[2]]\n",
    "myMethods"
   ]
  },
  {
   "cell_type": "markdown",
   "metadata": {},
   "source": [
    "### Step 4: Calculating results and storing them in a table (actually, a Pandas dataframe)"
   ]
  },
  {
   "cell_type": "markdown",
   "metadata": {},
   "source": [
    "The table I want should have one column per scenario (in this case, Danish and European milk) and one row per impact category (in this case, the three ReCiPe Endpoint (H,A) methods found in `myMethods`.  "
   ]
  },
  {
   "cell_type": "code",
   "execution_count": 8,
   "metadata": {
    "collapsed": false
   },
   "outputs": [
    {
     "data": {
      "text/plain": [
       "[('Dairy products, EU27', 'Human Health', 0.4607963671165393),\n",
       " ('Dairy products, EU27', 'Ecosystem Quality', 0.25562829018917155),\n",
       " ('Dairy products, EU27', 'Resources', 0.23386690905283108),\n",
       " ('Dairy products, DK', 'Human Health', 0.9275230140902032),\n",
       " ('Dairy products, DK', 'Ecosystem Quality', 0.4613055084918114),\n",
       " ('Dairy products, DK', 'Resources', 0.4302657020864254)]"
      ]
     },
     "execution_count": 8,
     "metadata": {},
     "output_type": "execute_result"
    }
   ],
   "source": [
    "# Note: Requires bw2calc version >= 1.2.1 (Released 2016-03-14) - run bw2update.bat on Windows!\n",
    "\n",
    "results = []\n",
    "for milk in myMilks:\n",
    "    # Building the LCA objet is relaively expensive so it is better to reuse it\n",
    "    lca = bw.LCA({milk:1})\n",
    "    lca.lci()\n",
    "    for method in myMethods:\n",
    "        lca.switch_method(method)\n",
    "        lca.lcia()\n",
    "        results.append((milk[\"name\"].replace(\"_20\", \"\").strip(), method[1].title(), lca.score))\n",
    "results"
   ]
  },
  {
   "cell_type": "code",
   "execution_count": 9,
   "metadata": {
    "collapsed": false
   },
   "outputs": [
    {
     "data": {
      "text/html": [
       "<div>\n",
       "<table border=\"1\" class=\"dataframe\">\n",
       "  <thead>\n",
       "    <tr style=\"text-align: right;\">\n",
       "      <th>Method</th>\n",
       "      <th>Ecosystem Quality</th>\n",
       "      <th>Human Health</th>\n",
       "      <th>Resources</th>\n",
       "    </tr>\n",
       "    <tr>\n",
       "      <th>Name</th>\n",
       "      <th></th>\n",
       "      <th></th>\n",
       "      <th></th>\n",
       "    </tr>\n",
       "  </thead>\n",
       "  <tbody>\n",
       "    <tr>\n",
       "      <th>Dairy products, DK</th>\n",
       "      <td>0.461306</td>\n",
       "      <td>0.927523</td>\n",
       "      <td>0.430266</td>\n",
       "    </tr>\n",
       "    <tr>\n",
       "      <th>Dairy products, EU27</th>\n",
       "      <td>0.255628</td>\n",
       "      <td>0.460796</td>\n",
       "      <td>0.233867</td>\n",
       "    </tr>\n",
       "  </tbody>\n",
       "</table>\n",
       "</div>"
      ],
      "text/plain": [
       "Method                Ecosystem Quality  Human Health  Resources\n",
       "Name                                                            \n",
       "Dairy products, DK             0.461306      0.927523   0.430266\n",
       "Dairy products, EU27           0.255628      0.460796   0.233867"
      ]
     },
     "execution_count": 9,
     "metadata": {},
     "output_type": "execute_result"
    }
   ],
   "source": [
    "import pandas as pd\n",
    "results_df = pd.DataFrame(results, columns=[\"Name\", \"Method\", \"Score\"])\n",
    "results_df = pd.pivot_table(results_df, index = \"Name\", columns = \"Method\", values = \"Score\")\n",
    "results_df"
   ]
  },
  {
   "cell_type": "markdown",
   "metadata": {},
   "source": [
    "Let's normalise the results."
   ]
  },
  {
   "cell_type": "code",
   "execution_count": 10,
   "metadata": {
    "collapsed": false
   },
   "outputs": [
    {
     "data": {
      "text/html": [
       "<div>\n",
       "<table border=\"1\" class=\"dataframe\">\n",
       "  <thead>\n",
       "    <tr style=\"text-align: right;\">\n",
       "      <th>Method</th>\n",
       "      <th>Ecosystem Quality</th>\n",
       "      <th>Human Health</th>\n",
       "      <th>Resources</th>\n",
       "    </tr>\n",
       "    <tr>\n",
       "      <th>Name</th>\n",
       "      <th></th>\n",
       "      <th></th>\n",
       "      <th></th>\n",
       "    </tr>\n",
       "  </thead>\n",
       "  <tbody>\n",
       "    <tr>\n",
       "      <th>Dairy products, DK</th>\n",
       "      <td>1.000000</td>\n",
       "      <td>1.000000</td>\n",
       "      <td>1.000000</td>\n",
       "    </tr>\n",
       "    <tr>\n",
       "      <th>Dairy products, EU27</th>\n",
       "      <td>0.554141</td>\n",
       "      <td>0.496803</td>\n",
       "      <td>0.543541</td>\n",
       "    </tr>\n",
       "  </tbody>\n",
       "</table>\n",
       "</div>"
      ],
      "text/plain": [
       "Method                Ecosystem Quality  Human Health  Resources\n",
       "Name                                                            \n",
       "Dairy products, DK             1.000000      1.000000   1.000000\n",
       "Dairy products, EU27           0.554141      0.496803   0.543541"
      ]
     },
     "execution_count": 10,
     "metadata": {},
     "output_type": "execute_result"
    }
   ],
   "source": [
    "NormResults_df = results_df / results_df.max()\n",
    "NormResults_df"
   ]
  },
  {
   "cell_type": "markdown",
   "metadata": {},
   "source": [
    "### Next steps:  \n",
    "What would follow would be:  \n",
    "- Contribution analyses  \n",
    "  - EFs to categories  \n",
    "  - Processes to results\n",
    "  - Process-EF coupl to results\n",
    "- Some nice graphics  \n",
    "Anyone willing to add these is welcome, I'm moving on to uncertainty analyses, where the real action is!"
   ]
  }
 ],
 "metadata": {
  "kernelspec": {
   "display_name": "Python 3",
   "language": "python",
   "name": "python3"
  },
  "language_info": {
   "codemirror_mode": {
    "name": "ipython",
    "version": 3
   },
   "file_extension": ".py",
   "mimetype": "text/x-python",
   "name": "python",
   "nbconvert_exporter": "python",
   "pygments_lexer": "ipython3",
   "version": "3.5.1"
  }
 },
 "nbformat": 4,
 "nbformat_minor": 0
}
